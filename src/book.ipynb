{
 "cells": [
  {
   "cell_type": "markdown",
   "metadata": {},
   "source": [
    "# Lector Objetos de Tweets\n"
   ]
  },
  {
   "cell_type": "markdown",
   "metadata": {},
   "source": [
    "### 1. Importing Required Libraries"
   ]
  },
  {
   "cell_type": "code",
   "execution_count": 1,
   "metadata": {},
   "outputs": [],
   "source": [
    "import zipfile\n",
    "from pandas.io.json import json_normalize\n",
    "import pandas as pd\n",
    "import re"
   ]
  },
  {
   "cell_type": "markdown",
   "metadata": {},
   "source": [
    "### 2. Data"
   ]
  },
  {
   "cell_type": "markdown",
   "metadata": {},
   "source": [
    "#### 2.1. UnZip\n",
    "\n",
    "Primero extraemos los datos de la carpeta .zip para poder leer los datos"
   ]
  },
  {
   "cell_type": "code",
   "execution_count": 2,
   "metadata": {},
   "outputs": [],
   "source": [
    "DIR_ZIP = './data/archive.zip'\n",
    "DIR_UNZIP = './data'\n",
    "\n",
    "with zipfile.ZipFile(DIR_ZIP, 'r') as zip_ref:\n",
    "    zip_ref.extractall(DIR_UNZIP)"
   ]
  },
  {
   "cell_type": "markdown",
   "metadata": {},
   "source": [
    "#### 2.2. Data Lecture"
   ]
  },
  {
   "cell_type": "code",
   "execution_count": 2,
   "metadata": {},
   "outputs": [],
   "source": [
    "def getJsonData(file_name):\n",
    "    data = pd.read_json(file_name, lines=True)\n",
    "    data = data[data['lang']=='en']\n",
    "    return data"
   ]
  },
  {
   "cell_type": "code",
   "execution_count": 4,
   "metadata": {},
   "outputs": [
    {
     "name": "stdout",
     "output_type": "stream",
     "text": [
      "Shape:  (417511, 21)\n"
     ]
    },
    {
     "data": {
      "text/html": [
       "<div>\n",
       "<style scoped>\n",
       "    .dataframe tbody tr th:only-of-type {\n",
       "        vertical-align: middle;\n",
       "    }\n",
       "\n",
       "    .dataframe tbody tr th {\n",
       "        vertical-align: top;\n",
       "    }\n",
       "\n",
       "    .dataframe thead th {\n",
       "        text-align: right;\n",
       "    }\n",
       "</style>\n",
       "<table border=\"1\" class=\"dataframe\">\n",
       "  <thead>\n",
       "    <tr style=\"text-align: right;\">\n",
       "      <th></th>\n",
       "      <th>url</th>\n",
       "      <th>date</th>\n",
       "      <th>content</th>\n",
       "      <th>renderedContent</th>\n",
       "      <th>id</th>\n",
       "      <th>user</th>\n",
       "      <th>outlinks</th>\n",
       "      <th>tcooutlinks</th>\n",
       "      <th>replyCount</th>\n",
       "      <th>retweetCount</th>\n",
       "      <th>...</th>\n",
       "      <th>quoteCount</th>\n",
       "      <th>conversationId</th>\n",
       "      <th>lang</th>\n",
       "      <th>source</th>\n",
       "      <th>sourceUrl</th>\n",
       "      <th>sourceLabel</th>\n",
       "      <th>media</th>\n",
       "      <th>retweetedTweet</th>\n",
       "      <th>quotedTweet</th>\n",
       "      <th>mentionedUsers</th>\n",
       "    </tr>\n",
       "  </thead>\n",
       "  <tbody>\n",
       "    <tr>\n",
       "      <th>0</th>\n",
       "      <td>https://twitter.com/ShashiRajbhar6/status/1376...</td>\n",
       "      <td>2021-03-30 03:33:46+00:00</td>\n",
       "      <td>Support 👇\\n\\n#FarmersProtest</td>\n",
       "      <td>Support 👇\\n\\n#FarmersProtest</td>\n",
       "      <td>1376739399593910273</td>\n",
       "      <td>{'username': 'ShashiRajbhar6', 'displayname': ...</td>\n",
       "      <td>[]</td>\n",
       "      <td>[]</td>\n",
       "      <td>0</td>\n",
       "      <td>0</td>\n",
       "      <td>...</td>\n",
       "      <td>0</td>\n",
       "      <td>1376739399593910273</td>\n",
       "      <td>en</td>\n",
       "      <td>&lt;a href=\"http://twitter.com/download/android\" ...</td>\n",
       "      <td>http://twitter.com/download/android</td>\n",
       "      <td>Twitter for Android</td>\n",
       "      <td>None</td>\n",
       "      <td>NaN</td>\n",
       "      <td>None</td>\n",
       "      <td>None</td>\n",
       "    </tr>\n",
       "    <tr>\n",
       "      <th>1</th>\n",
       "      <td>https://twitter.com/kaursuk06272818/status/137...</td>\n",
       "      <td>2021-03-30 03:33:23+00:00</td>\n",
       "      <td>Supporting farmers means supporting our countr...</td>\n",
       "      <td>Supporting farmers means supporting our countr...</td>\n",
       "      <td>1376739306287427584</td>\n",
       "      <td>{'username': 'kaursuk06272818', 'displayname':...</td>\n",
       "      <td>[]</td>\n",
       "      <td>[]</td>\n",
       "      <td>0</td>\n",
       "      <td>0</td>\n",
       "      <td>...</td>\n",
       "      <td>0</td>\n",
       "      <td>1376739306287427584</td>\n",
       "      <td>en</td>\n",
       "      <td>&lt;a href=\"http://twitter.com/download/android\" ...</td>\n",
       "      <td>http://twitter.com/download/android</td>\n",
       "      <td>Twitter for Android</td>\n",
       "      <td>[{'previewUrl': 'https://pbs.twimg.com/media/E...</td>\n",
       "      <td>NaN</td>\n",
       "      <td>None</td>\n",
       "      <td>None</td>\n",
       "    </tr>\n",
       "    <tr>\n",
       "      <th>2</th>\n",
       "      <td>https://twitter.com/kaursuk06272818/status/137...</td>\n",
       "      <td>2021-03-30 03:31:00+00:00</td>\n",
       "      <td>Support farmers if you are related to food #St...</td>\n",
       "      <td>Support farmers if you are related to food #St...</td>\n",
       "      <td>1376738704128020488</td>\n",
       "      <td>{'username': 'kaursuk06272818', 'displayname':...</td>\n",
       "      <td>[]</td>\n",
       "      <td>[]</td>\n",
       "      <td>0</td>\n",
       "      <td>0</td>\n",
       "      <td>...</td>\n",
       "      <td>0</td>\n",
       "      <td>1376738704128020488</td>\n",
       "      <td>en</td>\n",
       "      <td>&lt;a href=\"http://twitter.com/download/android\" ...</td>\n",
       "      <td>http://twitter.com/download/android</td>\n",
       "      <td>Twitter for Android</td>\n",
       "      <td>[{'previewUrl': 'https://pbs.twimg.com/media/E...</td>\n",
       "      <td>NaN</td>\n",
       "      <td>None</td>\n",
       "      <td>None</td>\n",
       "    </tr>\n",
       "    <tr>\n",
       "      <th>3</th>\n",
       "      <td>https://twitter.com/SukhdevSingh_/status/13767...</td>\n",
       "      <td>2021-03-30 03:30:45+00:00</td>\n",
       "      <td>#StopHateAgainstFarmers support #FarmersProtes...</td>\n",
       "      <td>#StopHateAgainstFarmers support #FarmersProtes...</td>\n",
       "      <td>1376738640542400518</td>\n",
       "      <td>{'username': 'SukhdevSingh_', 'displayname': '...</td>\n",
       "      <td>[]</td>\n",
       "      <td>[]</td>\n",
       "      <td>0</td>\n",
       "      <td>1</td>\n",
       "      <td>...</td>\n",
       "      <td>0</td>\n",
       "      <td>1376738640542400518</td>\n",
       "      <td>en</td>\n",
       "      <td>&lt;a href=\"http://twitter.com/download/android\" ...</td>\n",
       "      <td>http://twitter.com/download/android</td>\n",
       "      <td>Twitter for Android</td>\n",
       "      <td>None</td>\n",
       "      <td>NaN</td>\n",
       "      <td>None</td>\n",
       "      <td>None</td>\n",
       "    </tr>\n",
       "    <tr>\n",
       "      <th>4</th>\n",
       "      <td>https://twitter.com/Davidmu66668113/status/137...</td>\n",
       "      <td>2021-03-30 03:30:30+00:00</td>\n",
       "      <td>You hate farmers I hate you, \\nif you love the...</td>\n",
       "      <td>You hate farmers I hate you, \\nif you love the...</td>\n",
       "      <td>1376738579171344386</td>\n",
       "      <td>{'username': 'Davidmu66668113', 'displayname':...</td>\n",
       "      <td>[]</td>\n",
       "      <td>[]</td>\n",
       "      <td>0</td>\n",
       "      <td>0</td>\n",
       "      <td>...</td>\n",
       "      <td>0</td>\n",
       "      <td>1376738579171344386</td>\n",
       "      <td>en</td>\n",
       "      <td>&lt;a href=\"http://twitter.com/download/android\" ...</td>\n",
       "      <td>http://twitter.com/download/android</td>\n",
       "      <td>Twitter for Android</td>\n",
       "      <td>None</td>\n",
       "      <td>NaN</td>\n",
       "      <td>None</td>\n",
       "      <td>None</td>\n",
       "    </tr>\n",
       "  </tbody>\n",
       "</table>\n",
       "<p>5 rows × 21 columns</p>\n",
       "</div>"
      ],
      "text/plain": [
       "                                                 url  \\\n",
       "0  https://twitter.com/ShashiRajbhar6/status/1376...   \n",
       "1  https://twitter.com/kaursuk06272818/status/137...   \n",
       "2  https://twitter.com/kaursuk06272818/status/137...   \n",
       "3  https://twitter.com/SukhdevSingh_/status/13767...   \n",
       "4  https://twitter.com/Davidmu66668113/status/137...   \n",
       "\n",
       "                       date  \\\n",
       "0 2021-03-30 03:33:46+00:00   \n",
       "1 2021-03-30 03:33:23+00:00   \n",
       "2 2021-03-30 03:31:00+00:00   \n",
       "3 2021-03-30 03:30:45+00:00   \n",
       "4 2021-03-30 03:30:30+00:00   \n",
       "\n",
       "                                             content  \\\n",
       "0                       Support 👇\\n\\n#FarmersProtest   \n",
       "1  Supporting farmers means supporting our countr...   \n",
       "2  Support farmers if you are related to food #St...   \n",
       "3  #StopHateAgainstFarmers support #FarmersProtes...   \n",
       "4  You hate farmers I hate you, \\nif you love the...   \n",
       "\n",
       "                                     renderedContent                   id  \\\n",
       "0                       Support 👇\\n\\n#FarmersProtest  1376739399593910273   \n",
       "1  Supporting farmers means supporting our countr...  1376739306287427584   \n",
       "2  Support farmers if you are related to food #St...  1376738704128020488   \n",
       "3  #StopHateAgainstFarmers support #FarmersProtes...  1376738640542400518   \n",
       "4  You hate farmers I hate you, \\nif you love the...  1376738579171344386   \n",
       "\n",
       "                                                user outlinks tcooutlinks  \\\n",
       "0  {'username': 'ShashiRajbhar6', 'displayname': ...       []          []   \n",
       "1  {'username': 'kaursuk06272818', 'displayname':...       []          []   \n",
       "2  {'username': 'kaursuk06272818', 'displayname':...       []          []   \n",
       "3  {'username': 'SukhdevSingh_', 'displayname': '...       []          []   \n",
       "4  {'username': 'Davidmu66668113', 'displayname':...       []          []   \n",
       "\n",
       "   replyCount  retweetCount  ...  quoteCount       conversationId  lang  \\\n",
       "0           0             0  ...           0  1376739399593910273    en   \n",
       "1           0             0  ...           0  1376739306287427584    en   \n",
       "2           0             0  ...           0  1376738704128020488    en   \n",
       "3           0             1  ...           0  1376738640542400518    en   \n",
       "4           0             0  ...           0  1376738579171344386    en   \n",
       "\n",
       "                                              source  \\\n",
       "0  <a href=\"http://twitter.com/download/android\" ...   \n",
       "1  <a href=\"http://twitter.com/download/android\" ...   \n",
       "2  <a href=\"http://twitter.com/download/android\" ...   \n",
       "3  <a href=\"http://twitter.com/download/android\" ...   \n",
       "4  <a href=\"http://twitter.com/download/android\" ...   \n",
       "\n",
       "                             sourceUrl          sourceLabel  \\\n",
       "0  http://twitter.com/download/android  Twitter for Android   \n",
       "1  http://twitter.com/download/android  Twitter for Android   \n",
       "2  http://twitter.com/download/android  Twitter for Android   \n",
       "3  http://twitter.com/download/android  Twitter for Android   \n",
       "4  http://twitter.com/download/android  Twitter for Android   \n",
       "\n",
       "                                               media retweetedTweet  \\\n",
       "0                                               None            NaN   \n",
       "1  [{'previewUrl': 'https://pbs.twimg.com/media/E...            NaN   \n",
       "2  [{'previewUrl': 'https://pbs.twimg.com/media/E...            NaN   \n",
       "3                                               None            NaN   \n",
       "4                                               None            NaN   \n",
       "\n",
       "   quotedTweet mentionedUsers  \n",
       "0         None           None  \n",
       "1         None           None  \n",
       "2         None           None  \n",
       "3         None           None  \n",
       "4         None           None  \n",
       "\n",
       "[5 rows x 21 columns]"
      ]
     },
     "execution_count": 4,
     "metadata": {},
     "output_type": "execute_result"
    }
   ],
   "source": [
    "FILE_DIR = './data/farmers-protest-tweets-2021-03-5.json'\n",
    "\n",
    "# Read JSON file containing tweets data and removce tweets not in English\n",
    "\n",
    "raw_tweets = getJsonData(FILE_DIR)\n",
    "print(\"Shape: \", raw_tweets.shape)\n",
    "raw_tweets.head(5)"
   ]
  },
  {
   "cell_type": "markdown",
   "metadata": {},
   "source": [
    "#### 2.3. Pre-process Data"
   ]
  },
  {
   "cell_type": "code",
   "execution_count": 5,
   "metadata": {},
   "outputs": [],
   "source": [
    "Tweets = raw_tweets[['date', 'content', 'renderedContent', 'user', 'retweetCount']]"
   ]
  },
  {
   "cell_type": "code",
   "execution_count": 3,
   "metadata": {},
   "outputs": [],
   "source": [
    "def focusOnUserAttr(col, attr):\n",
    "    def func(df):\n",
    "        df[col] = df[col].apply(lambda x: x[attr])\n",
    "        return df \n",
    "    return func\n",
    "\n",
    "#focusOnUserAttr('user', 'username')(Tweets).head(5)"
   ]
  },
  {
   "cell_type": "code",
   "execution_count": 4,
   "metadata": {},
   "outputs": [],
   "source": [
    "def normalizeDate(df):\n",
    "    df['date'] = df['date'].apply(lambda x: x.date())\n",
    "    return df\n",
    "\n",
    "#normalizeDate(Tweets).head(5)"
   ]
  },
  {
   "cell_type": "code",
   "execution_count": 5,
   "metadata": {},
   "outputs": [],
   "source": [
    "def focusOnHashtags(df):\n",
    "    df['hashtag'] = df['renderedContent'].apply(lambda x: re.findall(r\"#(\\w+)\", x))\n",
    "    return df\n",
    "\n",
    "#focusOnHashtags(Tweets).head(5)"
   ]
  },
  {
   "cell_type": "markdown",
   "metadata": {},
   "source": [
    "### 3. Ranking"
   ]
  },
  {
   "cell_type": "code",
   "execution_count": 6,
   "metadata": {},
   "outputs": [],
   "source": [
    "def topTen(func, df):\n",
    "    return func(df).head(10)"
   ]
  },
  {
   "cell_type": "code",
   "execution_count": 7,
   "metadata": {},
   "outputs": [],
   "source": [
    "def changeDF(func, df):\n",
    "    return func(df)"
   ]
  },
  {
   "cell_type": "markdown",
   "metadata": {},
   "source": [
    "#### 3.1. Filters"
   ]
  },
  {
   "cell_type": "markdown",
   "metadata": {},
   "source": [
    "##### 3.1.a Most Re-Tweeted"
   ]
  },
  {
   "cell_type": "code",
   "execution_count": 8,
   "metadata": {},
   "outputs": [],
   "source": [
    "def mostReTweeted(df):\n",
    "    return df.sort_values(by='retweetCount', ascending=False)"
   ]
  },
  {
   "cell_type": "code",
   "execution_count": 9,
   "metadata": {},
   "outputs": [],
   "source": [
    "def getTopTenReTweeted(df):\n",
    "    def fun():\n",
    "        return topTen(mostReTweeted, df)[['content', 'retweetCount']]\n",
    "    return fun"
   ]
  },
  {
   "cell_type": "code",
   "execution_count": 13,
   "metadata": {},
   "outputs": [
    {
     "data": {
      "text/html": [
       "<div>\n",
       "<style scoped>\n",
       "    .dataframe tbody tr th:only-of-type {\n",
       "        vertical-align: middle;\n",
       "    }\n",
       "\n",
       "    .dataframe tbody tr th {\n",
       "        vertical-align: top;\n",
       "    }\n",
       "\n",
       "    .dataframe thead th {\n",
       "        text-align: right;\n",
       "    }\n",
       "</style>\n",
       "<table border=\"1\" class=\"dataframe\">\n",
       "  <thead>\n",
       "    <tr style=\"text-align: right;\">\n",
       "      <th></th>\n",
       "      <th>content</th>\n",
       "      <th>retweetCount</th>\n",
       "    </tr>\n",
       "  </thead>\n",
       "  <tbody>\n",
       "    <tr>\n",
       "      <th>408128</th>\n",
       "      <td>why aren’t we talking about this?! #FarmersPro...</td>\n",
       "      <td>315547</td>\n",
       "    </tr>\n",
       "    <tr>\n",
       "      <th>395142</th>\n",
       "      <td>We stand in solidarity with the #FarmersProtes...</td>\n",
       "      <td>103957</td>\n",
       "    </tr>\n",
       "    <tr>\n",
       "      <th>266196</th>\n",
       "      <td>I still #StandWithFarmers and support their pe...</td>\n",
       "      <td>67694</td>\n",
       "    </tr>\n",
       "    <tr>\n",
       "      <th>366579</th>\n",
       "      <td>“Paid actors,” huh? Quite the casting director...</td>\n",
       "      <td>35921</td>\n",
       "    </tr>\n",
       "    <tr>\n",
       "      <th>372793</th>\n",
       "      <td>What in the human rights violations is going o...</td>\n",
       "      <td>26972</td>\n",
       "    </tr>\n",
       "    <tr>\n",
       "      <th>314192</th>\n",
       "      <td>Happy to share that I’ve donated $10,000 to pr...</td>\n",
       "      <td>23251</td>\n",
       "    </tr>\n",
       "    <tr>\n",
       "      <th>215034</th>\n",
       "      <td>There has been much social media coverage arou...</td>\n",
       "      <td>20132</td>\n",
       "    </tr>\n",
       "    <tr>\n",
       "      <th>398011</th>\n",
       "      <td>Farmers feed the world. Fight for them. Protec...</td>\n",
       "      <td>18744</td>\n",
       "    </tr>\n",
       "    <tr>\n",
       "      <th>325261</th>\n",
       "      <td>Should be talking about this! #FarmersProtest\\...</td>\n",
       "      <td>17368</td>\n",
       "    </tr>\n",
       "    <tr>\n",
       "      <th>163689</th>\n",
       "      <td>To all of my influencer/celeb friends- read up...</td>\n",
       "      <td>15677</td>\n",
       "    </tr>\n",
       "  </tbody>\n",
       "</table>\n",
       "</div>"
      ],
      "text/plain": [
       "                                                  content  retweetCount\n",
       "408128  why aren’t we talking about this?! #FarmersPro...        315547\n",
       "395142  We stand in solidarity with the #FarmersProtes...        103957\n",
       "266196  I still #StandWithFarmers and support their pe...         67694\n",
       "366579  “Paid actors,” huh? Quite the casting director...         35921\n",
       "372793  What in the human rights violations is going o...         26972\n",
       "314192  Happy to share that I’ve donated $10,000 to pr...         23251\n",
       "215034  There has been much social media coverage arou...         20132\n",
       "398011  Farmers feed the world. Fight for them. Protec...         18744\n",
       "325261  Should be talking about this! #FarmersProtest\\...         17368\n",
       "163689  To all of my influencer/celeb friends- read up...         15677"
      ]
     },
     "execution_count": 13,
     "metadata": {},
     "output_type": "execute_result"
    }
   ],
   "source": [
    "getTopTenReTweeted(Tweets)()"
   ]
  },
  {
   "cell_type": "markdown",
   "metadata": {},
   "source": [
    "##### 3.1.b Most Tweeted"
   ]
  },
  {
   "cell_type": "code",
   "execution_count": 10,
   "metadata": {},
   "outputs": [],
   "source": [
    "def countTweetsPerUser(df):\n",
    "    return df.groupby('user').count().sort_values(by='content',ascending=False)"
   ]
  },
  {
   "cell_type": "code",
   "execution_count": 11,
   "metadata": {},
   "outputs": [],
   "source": [
    "def getTopTenTweetsPerUser(df):\n",
    "    def fun():\n",
    "        return topTen(countTweetsPerUser,df)[['content']]\n",
    "    return fun"
   ]
  },
  {
   "cell_type": "code",
   "execution_count": 16,
   "metadata": {},
   "outputs": [
    {
     "data": {
      "text/html": [
       "<div>\n",
       "<style scoped>\n",
       "    .dataframe tbody tr th:only-of-type {\n",
       "        vertical-align: middle;\n",
       "    }\n",
       "\n",
       "    .dataframe tbody tr th {\n",
       "        vertical-align: top;\n",
       "    }\n",
       "\n",
       "    .dataframe thead th {\n",
       "        text-align: right;\n",
       "    }\n",
       "</style>\n",
       "<table border=\"1\" class=\"dataframe\">\n",
       "  <thead>\n",
       "    <tr style=\"text-align: right;\">\n",
       "      <th></th>\n",
       "      <th>content</th>\n",
       "    </tr>\n",
       "    <tr>\n",
       "      <th>user</th>\n",
       "      <th></th>\n",
       "    </tr>\n",
       "  </thead>\n",
       "  <tbody>\n",
       "    <tr>\n",
       "      <th>harjot_tweeting</th>\n",
       "      <td>7134</td>\n",
       "    </tr>\n",
       "    <tr>\n",
       "      <th>tasveersandhu</th>\n",
       "      <td>2088</td>\n",
       "    </tr>\n",
       "    <tr>\n",
       "      <th>shells_n_petals</th>\n",
       "      <td>1991</td>\n",
       "    </tr>\n",
       "    <tr>\n",
       "      <th>jot__b</th>\n",
       "      <td>1841</td>\n",
       "    </tr>\n",
       "    <tr>\n",
       "      <th>rebelpacifist</th>\n",
       "      <td>1803</td>\n",
       "    </tr>\n",
       "    <tr>\n",
       "      <th>rumsomal</th>\n",
       "      <td>1722</td>\n",
       "    </tr>\n",
       "    <tr>\n",
       "      <th>Iamjazzie96</th>\n",
       "      <td>1491</td>\n",
       "    </tr>\n",
       "    <tr>\n",
       "      <th>Jass_k_G</th>\n",
       "      <td>1458</td>\n",
       "    </tr>\n",
       "    <tr>\n",
       "      <th>DigitalKisanBot</th>\n",
       "      <td>1453</td>\n",
       "    </tr>\n",
       "    <tr>\n",
       "      <th>z_khalique007</th>\n",
       "      <td>1446</td>\n",
       "    </tr>\n",
       "  </tbody>\n",
       "</table>\n",
       "</div>"
      ],
      "text/plain": [
       "                 content\n",
       "user                    \n",
       "harjot_tweeting     7134\n",
       "tasveersandhu       2088\n",
       "shells_n_petals     1991\n",
       "jot__b              1841\n",
       "rebelpacifist       1803\n",
       "rumsomal            1722\n",
       "Iamjazzie96         1491\n",
       "Jass_k_G            1458\n",
       "DigitalKisanBot     1453\n",
       "z_khalique007       1446"
      ]
     },
     "execution_count": 16,
     "metadata": {},
     "output_type": "execute_result"
    }
   ],
   "source": [
    "getTopTenTweetsPerUser(Tweets)()"
   ]
  },
  {
   "cell_type": "markdown",
   "metadata": {},
   "source": [
    "##### 3.1.c Days Most Tweeted"
   ]
  },
  {
   "cell_type": "code",
   "execution_count": 12,
   "metadata": {},
   "outputs": [],
   "source": [
    "def countTweetsPerDay(df):\n",
    "    return df.groupby('date').count().sort_values(by=\"content\", ascending=False)"
   ]
  },
  {
   "cell_type": "code",
   "execution_count": 13,
   "metadata": {},
   "outputs": [],
   "source": [
    "def getTopTenTweetsPerDay(df):\n",
    "    def fun():\n",
    "        return topTen(countTweetsPerDay, df)[[\"content\"]]\n",
    "    return fun"
   ]
  },
  {
   "cell_type": "code",
   "execution_count": 19,
   "metadata": {},
   "outputs": [
    {
     "data": {
      "text/html": [
       "<div>\n",
       "<style scoped>\n",
       "    .dataframe tbody tr th:only-of-type {\n",
       "        vertical-align: middle;\n",
       "    }\n",
       "\n",
       "    .dataframe tbody tr th {\n",
       "        vertical-align: top;\n",
       "    }\n",
       "\n",
       "    .dataframe thead th {\n",
       "        text-align: right;\n",
       "    }\n",
       "</style>\n",
       "<table border=\"1\" class=\"dataframe\">\n",
       "  <thead>\n",
       "    <tr style=\"text-align: right;\">\n",
       "      <th></th>\n",
       "      <th>content</th>\n",
       "    </tr>\n",
       "    <tr>\n",
       "      <th>date</th>\n",
       "      <th></th>\n",
       "    </tr>\n",
       "  </thead>\n",
       "  <tbody>\n",
       "    <tr>\n",
       "      <th>2021-02-03</th>\n",
       "      <td>83403</td>\n",
       "    </tr>\n",
       "    <tr>\n",
       "      <th>2021-02-04</th>\n",
       "      <td>58300</td>\n",
       "    </tr>\n",
       "    <tr>\n",
       "      <th>2021-02-05</th>\n",
       "      <td>33165</td>\n",
       "    </tr>\n",
       "    <tr>\n",
       "      <th>2021-02-02</th>\n",
       "      <td>28440</td>\n",
       "    </tr>\n",
       "    <tr>\n",
       "      <th>2021-02-06</th>\n",
       "      <td>22298</td>\n",
       "    </tr>\n",
       "    <tr>\n",
       "      <th>2021-02-07</th>\n",
       "      <td>11244</td>\n",
       "    </tr>\n",
       "    <tr>\n",
       "      <th>2021-02-09</th>\n",
       "      <td>9269</td>\n",
       "    </tr>\n",
       "    <tr>\n",
       "      <th>2021-02-08</th>\n",
       "      <td>8863</td>\n",
       "    </tr>\n",
       "    <tr>\n",
       "      <th>2021-02-10</th>\n",
       "      <td>7938</td>\n",
       "    </tr>\n",
       "    <tr>\n",
       "      <th>2021-02-11</th>\n",
       "      <td>5668</td>\n",
       "    </tr>\n",
       "  </tbody>\n",
       "</table>\n",
       "</div>"
      ],
      "text/plain": [
       "            content\n",
       "date               \n",
       "2021-02-03    83403\n",
       "2021-02-04    58300\n",
       "2021-02-05    33165\n",
       "2021-02-02    28440\n",
       "2021-02-06    22298\n",
       "2021-02-07    11244\n",
       "2021-02-09     9269\n",
       "2021-02-08     8863\n",
       "2021-02-10     7938\n",
       "2021-02-11     5668"
      ]
     },
     "execution_count": 19,
     "metadata": {},
     "output_type": "execute_result"
    }
   ],
   "source": [
    "getTopTenTweetsPerDay(Tweets)()"
   ]
  },
  {
   "cell_type": "markdown",
   "metadata": {},
   "source": [
    "#### 3.1.d Most Hashtags used"
   ]
  },
  {
   "cell_type": "code",
   "execution_count": 14,
   "metadata": {},
   "outputs": [],
   "source": [
    "def count_items(hash):\n",
    "\n",
    "    def fun(list_):\n",
    "        for element in list_:\n",
    "            if element not in hash:\n",
    "                hash[element] = 1\n",
    "            else:\n",
    "                hash[element] += 1\n",
    "\n",
    "    return fun"
   ]
  },
  {
   "cell_type": "code",
   "execution_count": 15,
   "metadata": {},
   "outputs": [],
   "source": [
    "def applyCountHashtags(df):\n",
    "    hash = {}\n",
    "    df['hashtag'].apply(count_items(hash))\n",
    "    return hash"
   ]
  },
  {
   "cell_type": "code",
   "execution_count": 16,
   "metadata": {},
   "outputs": [],
   "source": [
    "def showHashtagCount(df):\n",
    "    hash = applyCountHashtags(df)\n",
    "    return pd.DataFrame(hash.items(), columns=['hashtag', 'count']).sort_values(by='count', ascending=False)"
   ]
  },
  {
   "cell_type": "code",
   "execution_count": 17,
   "metadata": {},
   "outputs": [],
   "source": [
    "def getTopTenHashtags(df):\n",
    "    def fun():\n",
    "        return topTen(showHashtagCount, df)\n",
    "    return fun"
   ]
  },
  {
   "cell_type": "code",
   "execution_count": 24,
   "metadata": {},
   "outputs": [
    {
     "data": {
      "text/html": [
       "<div>\n",
       "<style scoped>\n",
       "    .dataframe tbody tr th:only-of-type {\n",
       "        vertical-align: middle;\n",
       "    }\n",
       "\n",
       "    .dataframe tbody tr th {\n",
       "        vertical-align: top;\n",
       "    }\n",
       "\n",
       "    .dataframe thead th {\n",
       "        text-align: right;\n",
       "    }\n",
       "</style>\n",
       "<table border=\"1\" class=\"dataframe\">\n",
       "  <thead>\n",
       "    <tr style=\"text-align: right;\">\n",
       "      <th></th>\n",
       "      <th>hashtag</th>\n",
       "      <th>count</th>\n",
       "    </tr>\n",
       "  </thead>\n",
       "  <tbody>\n",
       "    <tr>\n",
       "      <th>0</th>\n",
       "      <td>FarmersProtest</td>\n",
       "      <td>404687</td>\n",
       "    </tr>\n",
       "    <tr>\n",
       "      <th>97</th>\n",
       "      <td>IStandWithFarmers</td>\n",
       "      <td>15713</td>\n",
       "    </tr>\n",
       "    <tr>\n",
       "      <th>7</th>\n",
       "      <td>farmersprotest</td>\n",
       "      <td>15378</td>\n",
       "    </tr>\n",
       "    <tr>\n",
       "      <th>825</th>\n",
       "      <td>IndianFarmersHumanRights</td>\n",
       "      <td>11934</td>\n",
       "    </tr>\n",
       "    <tr>\n",
       "      <th>554</th>\n",
       "      <td>FarmersAreIndia</td>\n",
       "      <td>10985</td>\n",
       "    </tr>\n",
       "    <tr>\n",
       "      <th>163</th>\n",
       "      <td>StandWithFarmers</td>\n",
       "      <td>10612</td>\n",
       "    </tr>\n",
       "    <tr>\n",
       "      <th>2340</th>\n",
       "      <td>Rihanna</td>\n",
       "      <td>9088</td>\n",
       "    </tr>\n",
       "    <tr>\n",
       "      <th>18</th>\n",
       "      <td>FarmersProtests</td>\n",
       "      <td>8707</td>\n",
       "    </tr>\n",
       "    <tr>\n",
       "      <th>15</th>\n",
       "      <td>Farmers</td>\n",
       "      <td>6541</td>\n",
       "    </tr>\n",
       "    <tr>\n",
       "      <th>6110</th>\n",
       "      <td>shameonbollywood</td>\n",
       "      <td>6222</td>\n",
       "    </tr>\n",
       "  </tbody>\n",
       "</table>\n",
       "</div>"
      ],
      "text/plain": [
       "                       hashtag   count\n",
       "0               FarmersProtest  404687\n",
       "97           IStandWithFarmers   15713\n",
       "7               farmersprotest   15378\n",
       "825   IndianFarmersHumanRights   11934\n",
       "554            FarmersAreIndia   10985\n",
       "163           StandWithFarmers   10612\n",
       "2340                   Rihanna    9088\n",
       "18             FarmersProtests    8707\n",
       "15                     Farmers    6541\n",
       "6110          shameonbollywood    6222"
      ]
     },
     "execution_count": 24,
     "metadata": {},
     "output_type": "execute_result"
    }
   ],
   "source": [
    "getTopTenHashtags(Tweets)()"
   ]
  },
  {
   "cell_type": "markdown",
   "metadata": {},
   "source": [
    "### 4. Main Function"
   ]
  },
  {
   "cell_type": "code",
   "execution_count": 18,
   "metadata": {},
   "outputs": [],
   "source": [
    "def getInput(message):\n",
    "    return input(message)"
   ]
  },
  {
   "cell_type": "code",
   "execution_count": 19,
   "metadata": {},
   "outputs": [],
   "source": [
    "def inputRules(rulesList):\n",
    "    def inputValidation(input):\n",
    "        return input.lower() in rulesList\n",
    "    return inputValidation"
   ]
  },
  {
   "cell_type": "code",
   "execution_count": 20,
   "metadata": {},
   "outputs": [],
   "source": [
    "def InputController(rules):\n",
    "    def getNewInput():\n",
    "        while True:\n",
    "            input = getInput(\"Enter a value: \")\n",
    "            if rules(input):\n",
    "                return input\n",
    "            print(\"Invalid input\")\n",
    "    return getNewInput"
   ]
  },
  {
   "cell_type": "code",
   "execution_count": 21,
   "metadata": {},
   "outputs": [],
   "source": [
    "def getData():\n",
    "    FILE_DIR = './data/farmers-protest-tweets-2021-03-5.json'\n",
    "    data = getJsonData(FILE_DIR)[['date', 'content', 'renderedContent', 'user', 'retweetCount']]\n",
    "    focusOnUserAttr('user', 'username')(data)\n",
    "    normalizeDate(data)\n",
    "    focusOnHashtags(data)\n",
    "    return data"
   ]
  },
  {
   "cell_type": "code",
   "execution_count": 22,
   "metadata": {},
   "outputs": [],
   "source": [
    "def main():\n",
    "    data = getData()\n",
    "    functions = [getTopTenReTweeted(data), getTopTenTweetsPerUser(data), getTopTenTweetsPerDay(data), getTopTenHashtags(data)]\n",
    "    rulesList = {'1': 'getTopTenReTweeted', '2': 'getTopTenTweetsPerUser', '3': 'getTopTenTweetsPerDay', '4': 'getTopTenHashtags', 'exit': 'exit'}\n",
    "    inputValidator = inputRules(rulesList.keys())\n",
    "    rulesStringlist = \"\".join([ key + ' for: ' + value + \"\\n\" for key, value in rulesList.items()])\n",
    "    inputController = InputController(inputValidator)\n",
    "    while True:\n",
    "        try:\n",
    "            print('\\n\\nEnter one of the following: \\n' + rulesStringlist)\n",
    "            input = inputController()\n",
    "            if input == 'exit':\n",
    "                print(\"Exiting\")\n",
    "                break\n",
    "            else:\n",
    "                print(\"You choose: \", rulesList[input])\n",
    "                print(functions[int(input) - 1]())\n",
    "        except Exception as e:\n",
    "            print(e)\n",
    "            print(\"Invalid action\")\n",
    "            continue"
   ]
  },
  {
   "cell_type": "code",
   "execution_count": 23,
   "metadata": {},
   "outputs": [
    {
     "name": "stdout",
     "output_type": "stream",
     "text": [
      "\n",
      "\n",
      "Enter one of the following: \n",
      "1 for: getTopTenReTweeted\n",
      "2 for: getTopTenTweetsPerUser\n",
      "3 for: getTopTenTweetsPerDay\n",
      "4 for: getTopTenHashtags\n",
      "exit for: exit\n",
      "\n",
      "You choose:  getTopTenReTweeted\n",
      "                                                  content  retweetCount\n",
      "408128  why aren’t we talking about this?! #FarmersPro...        315547\n",
      "395142  We stand in solidarity with the #FarmersProtes...        103957\n",
      "266196  I still #StandWithFarmers and support their pe...         67694\n",
      "366579  “Paid actors,” huh? Quite the casting director...         35921\n",
      "372793  What in the human rights violations is going o...         26972\n",
      "314192  Happy to share that I’ve donated $10,000 to pr...         23251\n",
      "215034  There has been much social media coverage arou...         20132\n",
      "398011  Farmers feed the world. Fight for them. Protec...         18744\n",
      "325261  Should be talking about this! #FarmersProtest\\...         17368\n",
      "163689  To all of my influencer/celeb friends- read up...         15677\n",
      "\n",
      "\n",
      "Enter one of the following: \n",
      "1 for: getTopTenReTweeted\n",
      "2 for: getTopTenTweetsPerUser\n",
      "3 for: getTopTenTweetsPerDay\n",
      "4 for: getTopTenHashtags\n",
      "exit for: exit\n",
      "\n",
      "You choose:  getTopTenTweetsPerUser\n",
      "                 content\n",
      "user                    \n",
      "harjot_tweeting     7134\n",
      "tasveersandhu       2088\n",
      "shells_n_petals     1991\n",
      "jot__b              1841\n",
      "rebelpacifist       1803\n",
      "rumsomal            1722\n",
      "Iamjazzie96         1491\n",
      "Jass_k_G            1458\n",
      "DigitalKisanBot     1453\n",
      "z_khalique007       1446\n",
      "\n",
      "\n",
      "Enter one of the following: \n",
      "1 for: getTopTenReTweeted\n",
      "2 for: getTopTenTweetsPerUser\n",
      "3 for: getTopTenTweetsPerDay\n",
      "4 for: getTopTenHashtags\n",
      "exit for: exit\n",
      "\n",
      "You choose:  getTopTenTweetsPerDay\n",
      "            content\n",
      "date               \n",
      "2021-02-03    83403\n",
      "2021-02-04    58300\n",
      "2021-02-05    33165\n",
      "2021-02-02    28440\n",
      "2021-02-06    22298\n",
      "2021-02-07    11244\n",
      "2021-02-09     9269\n",
      "2021-02-08     8863\n",
      "2021-02-10     7938\n",
      "2021-02-11     5668\n",
      "\n",
      "\n",
      "Enter one of the following: \n",
      "1 for: getTopTenReTweeted\n",
      "2 for: getTopTenTweetsPerUser\n",
      "3 for: getTopTenTweetsPerDay\n",
      "4 for: getTopTenHashtags\n",
      "exit for: exit\n",
      "\n",
      "Invalid input\n",
      "You choose:  getTopTenHashtags\n",
      "                       hashtag   count\n",
      "0               FarmersProtest  404687\n",
      "97           IStandWithFarmers   15713\n",
      "7               farmersprotest   15378\n",
      "825   IndianFarmersHumanRights   11934\n",
      "554            FarmersAreIndia   10985\n",
      "163           StandWithFarmers   10612\n",
      "2340                   Rihanna    9088\n",
      "18             FarmersProtests    8707\n",
      "15                     Farmers    6541\n",
      "6110          shameonbollywood    6222\n",
      "\n",
      "\n",
      "Enter one of the following: \n",
      "1 for: getTopTenReTweeted\n",
      "2 for: getTopTenTweetsPerUser\n",
      "3 for: getTopTenTweetsPerDay\n",
      "4 for: getTopTenHashtags\n",
      "exit for: exit\n",
      "\n",
      "Exiting\n"
     ]
    }
   ],
   "source": [
    "if __name__ == \"__main__\":\n",
    "    main()"
   ]
  },
  {
   "cell_type": "code",
   "execution_count": null,
   "metadata": {},
   "outputs": [],
   "source": []
  }
 ],
 "metadata": {
  "interpreter": {
   "hash": "bd2d370f10d7ff833a5aba25126f14a2493aec527b9822040f3f4b2b3a418769"
  },
  "kernelspec": {
   "display_name": "Python 3.8.7 64-bit",
   "language": "python",
   "name": "python3"
  },
  "language_info": {
   "codemirror_mode": {
    "name": "ipython",
    "version": 3
   },
   "file_extension": ".py",
   "mimetype": "text/x-python",
   "name": "python",
   "nbconvert_exporter": "python",
   "pygments_lexer": "ipython3",
   "version": "3.8.7"
  },
  "orig_nbformat": 4
 },
 "nbformat": 4,
 "nbformat_minor": 2
}
